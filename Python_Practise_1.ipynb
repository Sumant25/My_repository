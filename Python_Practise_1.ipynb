{
  "nbformat": 4,
  "nbformat_minor": 0,
  "metadata": {
    "colab": {
      "name": "Python Practise-1.ipynb",
      "provenance": [],
      "authorship_tag": "ABX9TyPGd/7NzDIg5GETiTQzm5O4",
      "include_colab_link": true
    },
    "kernelspec": {
      "name": "python3",
      "display_name": "Python 3"
    },
    "language_info": {
      "name": "python"
    }
  },
  "cells": [
    {
      "cell_type": "markdown",
      "metadata": {
        "id": "view-in-github",
        "colab_type": "text"
      },
      "source": [
        "<a href=\"https://colab.research.google.com/github/Sumant25/My_repository/blob/main/Python_Practise_1.ipynb\" target=\"_parent\"><img src=\"https://colab.research.google.com/assets/colab-badge.svg\" alt=\"Open In Colab\"/></a>"
      ]
    },
    {
      "cell_type": "code",
      "metadata": {
        "id": "zNNiHXSrumK1"
      },
      "source": [
        "import numpy as np\n",
        "import pandas as pd\n",
        "import matplotlib.pyplot as plt\n",
        "import seaborn as sns"
      ],
      "execution_count": 2,
      "outputs": []
    },
    {
      "cell_type": "markdown",
      "metadata": {
        "id": "Lxln_onEvD5o"
      },
      "source": [
        "**Why we should use Numpy array when we have Python list??**"
      ]
    },
    {
      "cell_type": "markdown",
      "metadata": {
        "id": "HvUqkPDrvZy8"
      },
      "source": [
        "Numpy array are:\n",
        "\n",
        "1.   FAST\n",
        "2.   CONVENIENCE\n",
        "3.   USES LESS MEMEORY\n",
        "4.   FUNCTIONALITY\n",
        "\n"
      ]
    },
    {
      "cell_type": "markdown",
      "metadata": {
        "id": "9-h-zrs1S1xe"
      },
      "source": [
        "***Memory Consumption Test of Numpy Array vs Python List***"
      ]
    },
    {
      "cell_type": "code",
      "metadata": {
        "id": "O3ngSaV9u4LG"
      },
      "source": [
        "import time\n",
        "import sys"
      ],
      "execution_count": 3,
      "outputs": []
    },
    {
      "cell_type": "code",
      "metadata": {
        "colab": {
          "base_uri": "https://localhost:8080/"
        },
        "id": "DAhP7as7u4ZC",
        "outputId": "18b4dca3-21bc-4812-8ec7-0abad7766055"
      },
      "source": [
        "b= range(1000) # creating a list of 1000 numbers from 0 to 999.\n",
        "print('total memory occupied by 1000 elements in Python list:')\n",
        "print(sys.getsizeof(5)*len(b), \"bytes\")"
      ],
      "execution_count": 9,
      "outputs": [
        {
          "output_type": "stream",
          "text": [
            "total memory occupied by 1000 elements in Python :\n",
            "28000 bytes\n"
          ],
          "name": "stdout"
        }
      ]
    },
    {
      "cell_type": "code",
      "metadata": {
        "colab": {
          "base_uri": "https://localhost:8080/"
        },
        "id": "0tabuQD4u4bT",
        "outputId": "bf8ab72e-5fb5-41cc-d391-6cd10c303a1f"
      },
      "source": [
        "c = np.arange(1000) # creating an array of 1000 nos.\n",
        "print('total memory occupied by 1000 elements in Numpy array:')\n",
        "print((c.itemsize * c.size),'bytes')"
      ],
      "execution_count": 11,
      "outputs": [
        {
          "output_type": "stream",
          "text": [
            "total memory occupied by 1000 elements in Numpy array:\n",
            "8000 bytes\n"
          ],
          "name": "stdout"
        }
      ]
    },
    {
      "cell_type": "markdown",
      "metadata": {
        "id": "rGgF99jlUqk0"
      },
      "source": [
        "***Comparing the Speed of Numpy array vs Python List***"
      ]
    },
    {
      "cell_type": "code",
      "metadata": {
        "colab": {
          "base_uri": "https://localhost:8080/"
        },
        "id": "Z35iIbF8u4jJ",
        "outputId": "050ef3f3-988b-4395-ba83-0298659906fd"
      },
      "source": [
        "# How much it takes to add 1 million elements in LIST vs ARRAY\n",
        "\n",
        "size = 1000000\n",
        "\n",
        "A1 = range(size)\n",
        "A2 = range(size)\n",
        "\n",
        "start = time.time() # capture start-time before processing\n",
        "result = [x+y for x,y in zip(A1,A2)]\n",
        "stop = time.time() # capture stop-time after processing\n",
        "# (stop-start)*1000 # to convert the time-diff into milliseconds\n",
        "print('time taken by python list addition -> ', (stop-start)*1000, ' ms') \n",
        "\n",
        "L1 = np.arange(size)\n",
        "L2 = np.arange(size)\n",
        "\n",
        "start = time.time()\n",
        "result = L1 + L2\n",
        "stop = time.time()\n",
        "print('time taken by numpy array addition -> ', (stop-start)*1000, ' ms')"
      ],
      "execution_count": 14,
      "outputs": [
        {
          "output_type": "stream",
          "text": [
            "time taken by python list addition ->  131.78277015686035  ms\n",
            "time taken by numpy array addition ->  18.596649169921875  ms\n"
          ],
          "name": "stdout"
        }
      ]
    },
    {
      "cell_type": "code",
      "metadata": {
        "colab": {
          "base_uri": "https://localhost:8080/"
        },
        "id": "_PY8PdVEu4lV",
        "outputId": "cde6a2ab-b086-48bb-c399-b5afd296184c"
      },
      "source": [
        "# 1-D array\n",
        "arr1 = np.array([10,20,30,40,50])\n",
        "arr1"
      ],
      "execution_count": 40,
      "outputs": [
        {
          "output_type": "execute_result",
          "data": {
            "text/plain": [
              "array([10, 20, 30, 40, 50])"
            ]
          },
          "metadata": {
            "tags": []
          },
          "execution_count": 40
        }
      ]
    },
    {
      "cell_type": "code",
      "metadata": {
        "colab": {
          "base_uri": "https://localhost:8080/"
        },
        "id": "a8RDa5L6u4o8",
        "outputId": "aefe6ca7-85d7-4e5c-de0a-d72792377523"
      },
      "source": [
        "arr1.tolist()"
      ],
      "execution_count": 41,
      "outputs": [
        {
          "output_type": "execute_result",
          "data": {
            "text/plain": [
              "[10, 20, 30, 40, 50]"
            ]
          },
          "metadata": {
            "tags": []
          },
          "execution_count": 41
        }
      ]
    },
    {
      "cell_type": "code",
      "metadata": {
        "colab": {
          "base_uri": "https://localhost:8080/"
        },
        "id": "W6rcFeBnYYVA",
        "outputId": "462cb2d5-265c-43c9-dfde-79aae5844aa8"
      },
      "source": [
        "# 2-D array\n",
        "arr2 = np.array([[1,2,3],[4,5,6]])\n",
        "arr2"
      ],
      "execution_count": 26,
      "outputs": [
        {
          "output_type": "execute_result",
          "data": {
            "text/plain": [
              "array([[1, 2, 3],\n",
              "       [4, 5, 6]])"
            ]
          },
          "metadata": {
            "tags": []
          },
          "execution_count": 26
        }
      ]
    },
    {
      "cell_type": "code",
      "metadata": {
        "colab": {
          "base_uri": "https://localhost:8080/"
        },
        "id": "K9zTKHVfYYXn",
        "outputId": "8cfcbe27-c4c1-48a9-de1a-0b9068685655"
      },
      "source": [
        "# alternatively using 2-D list\n",
        "mylist = [[1,2,3],[4,5,6]]\n",
        "b = np.array(mylist)\n",
        "print(b)"
      ],
      "execution_count": 28,
      "outputs": [
        {
          "output_type": "stream",
          "text": [
            "[[1 2 3]\n",
            " [4 5 6]]\n"
          ],
          "name": "stdout"
        }
      ]
    },
    {
      "cell_type": "code",
      "metadata": {
        "colab": {
          "base_uri": "https://localhost:8080/"
        },
        "id": "z4fTeLd-bJ3V",
        "outputId": "ef7597a5-e1d5-403c-a2b7-ff203e770a17"
      },
      "source": [
        "# 3-D array\n",
        "arr3 = np.array([[[1,2,3],[4,5,6]],[[7,8,9],[10,11,12]]])\n",
        "arr3"
      ],
      "execution_count": 31,
      "outputs": [
        {
          "output_type": "execute_result",
          "data": {
            "text/plain": [
              "array([[[ 1,  2,  3],\n",
              "        [ 4,  5,  6]],\n",
              "\n",
              "       [[ 7,  8,  9],\n",
              "        [10, 11, 12]]])"
            ]
          },
          "metadata": {
            "tags": []
          },
          "execution_count": 31
        }
      ]
    },
    {
      "cell_type": "markdown",
      "metadata": {
        "id": "Ys2Ad2HtcVF2"
      },
      "source": [
        "**Checking dimensions & Shape of an Array**"
      ]
    },
    {
      "cell_type": "code",
      "metadata": {
        "colab": {
          "base_uri": "https://localhost:8080/"
        },
        "id": "lW2cw1M_bKGV",
        "outputId": "adc9e959-94da-4e1f-b87d-3cdee8473823"
      },
      "source": [
        "arr3.ndim"
      ],
      "execution_count": 32,
      "outputs": [
        {
          "output_type": "execute_result",
          "data": {
            "text/plain": [
              "3"
            ]
          },
          "metadata": {
            "tags": []
          },
          "execution_count": 32
        }
      ]
    },
    {
      "cell_type": "code",
      "metadata": {
        "colab": {
          "base_uri": "https://localhost:8080/"
        },
        "id": "4HuO_7IJbKJn",
        "outputId": "b33ad7b3-9f99-4352-cadd-d00849a8f09c"
      },
      "source": [
        "arr3.shape"
      ],
      "execution_count": 33,
      "outputs": [
        {
          "output_type": "execute_result",
          "data": {
            "text/plain": [
              "(2, 2, 3)"
            ]
          },
          "metadata": {
            "tags": []
          },
          "execution_count": 33
        }
      ]
    },
    {
      "cell_type": "code",
      "metadata": {
        "colab": {
          "base_uri": "https://localhost:8080/"
        },
        "id": "tfYv9sX3YYaJ",
        "outputId": "f5beb7bb-1b1a-49f5-915f-1e885bc4558e"
      },
      "source": [
        "b.ndim  # To check no of dimensions"
      ],
      "execution_count": 29,
      "outputs": [
        {
          "output_type": "execute_result",
          "data": {
            "text/plain": [
              "2"
            ]
          },
          "metadata": {
            "tags": []
          },
          "execution_count": 29
        }
      ]
    },
    {
      "cell_type": "code",
      "metadata": {
        "colab": {
          "base_uri": "https://localhost:8080/"
        },
        "id": "Fx0pfpmXYYca",
        "outputId": "6228c5d2-2c92-4c8c-aa66-d34ae294544b"
      },
      "source": [
        "b.shape # it gives no of Rows X no. of Columns"
      ],
      "execution_count": 30,
      "outputs": [
        {
          "output_type": "execute_result",
          "data": {
            "text/plain": [
              "(2, 3)"
            ]
          },
          "metadata": {
            "tags": []
          },
          "execution_count": 30
        }
      ]
    },
    {
      "cell_type": "markdown",
      "metadata": {
        "id": "RLuNfPqOaAnW"
      },
      "source": [
        "**Indexing in Numpy Array**"
      ]
    },
    {
      "cell_type": "code",
      "metadata": {
        "colab": {
          "base_uri": "https://localhost:8080/"
        },
        "id": "MpIiAUcLYYfT",
        "outputId": "16058483-8bd7-4a76-df80-89b6a5cb3813"
      },
      "source": [
        "arr3 = np.array([[[1,2,3],[4,5,6]],[[7,8,9],[10,11,12]]])\n",
        "arr3"
      ],
      "execution_count": 34,
      "outputs": [
        {
          "output_type": "execute_result",
          "data": {
            "text/plain": [
              "array([[[ 1,  2,  3],\n",
              "        [ 4,  5,  6]],\n",
              "\n",
              "       [[ 7,  8,  9],\n",
              "        [10, 11, 12]]])"
            ]
          },
          "metadata": {
            "tags": []
          },
          "execution_count": 34
        }
      ]
    },
    {
      "cell_type": "code",
      "metadata": {
        "colab": {
          "base_uri": "https://localhost:8080/"
        },
        "id": "ZMDGvruYYYiO",
        "outputId": "ae0f03a3-9990-49ed-cf6d-1a9fa7ec0a86"
      },
      "source": [
        "arr3[-1][-1][-1]"
      ],
      "execution_count": 38,
      "outputs": [
        {
          "output_type": "execute_result",
          "data": {
            "text/plain": [
              "12"
            ]
          },
          "metadata": {
            "tags": []
          },
          "execution_count": 38
        }
      ]
    },
    {
      "cell_type": "code",
      "metadata": {
        "colab": {
          "base_uri": "https://localhost:8080/"
        },
        "id": "hBv7aJZCYYkG",
        "outputId": "d0a2bac2-eede-4c80-cd4a-f53d5a023e81"
      },
      "source": [
        "arr3[1][1][2]"
      ],
      "execution_count": 44,
      "outputs": [
        {
          "output_type": "execute_result",
          "data": {
            "text/plain": [
              "12"
            ]
          },
          "metadata": {
            "tags": []
          },
          "execution_count": 44
        }
      ]
    },
    {
      "cell_type": "code",
      "metadata": {
        "colab": {
          "base_uri": "https://localhost:8080/"
        },
        "id": "YsblUOLNYYmp",
        "outputId": "86538de5-bace-4e13-c437-f562e2f8beda"
      },
      "source": [
        "arr3[1,1,2]"
      ],
      "execution_count": 56,
      "outputs": [
        {
          "output_type": "execute_result",
          "data": {
            "text/plain": [
              "12"
            ]
          },
          "metadata": {
            "tags": []
          },
          "execution_count": 56
        }
      ]
    },
    {
      "cell_type": "code",
      "metadata": {
        "colab": {
          "base_uri": "https://localhost:8080/"
        },
        "id": "DKIGOAK2YYpP",
        "outputId": "70f29b38-1a01-4f15-c2fb-bd23f0d2bbea"
      },
      "source": [
        "a = np.array([[1,2,3,4],[5,6,7,8], [9,10,11,12]])\n",
        "a"
      ],
      "execution_count": 58,
      "outputs": [
        {
          "output_type": "execute_result",
          "data": {
            "text/plain": [
              "array([[ 1,  2,  3,  4],\n",
              "       [ 5,  6,  7,  8],\n",
              "       [ 9, 10, 11, 12]])"
            ]
          },
          "metadata": {
            "tags": []
          },
          "execution_count": 58
        }
      ]
    },
    {
      "cell_type": "code",
      "metadata": {
        "colab": {
          "base_uri": "https://localhost:8080/"
        },
        "id": "s8jL-W4vYYsZ",
        "outputId": "59985448-1313-4e6a-a8c5-c2b9f7cdbd1c"
      },
      "source": [
        "b = a[:2,1:3]   # :2 -> means all rows till (2-1) rows from end , 1:3 means -> covering columns from index 1 to last-1\n",
        "b"
      ],
      "execution_count": 60,
      "outputs": [
        {
          "output_type": "execute_result",
          "data": {
            "text/plain": [
              "array([[2, 3],\n",
              "       [6, 7]])"
            ]
          },
          "metadata": {
            "tags": []
          },
          "execution_count": 60
        }
      ]
    },
    {
      "cell_type": "code",
      "metadata": {
        "colab": {
          "base_uri": "https://localhost:8080/"
        },
        "id": "XibGZFsaa6AT",
        "outputId": "9ada3d0b-38fa-42e8-8110-4e65b8d9411c"
      },
      "source": [
        "a = np.array([[1,2,3,4],[5,6,7,8], [9,10,11,12]], dtype='float')\n",
        "a"
      ],
      "execution_count": 70,
      "outputs": [
        {
          "output_type": "execute_result",
          "data": {
            "text/plain": [
              "array([[ 1.,  2.,  3.,  4.],\n",
              "       [ 5.,  6.,  7.,  8.],\n",
              "       [ 9., 10., 11., 12.]])"
            ]
          },
          "metadata": {
            "tags": []
          },
          "execution_count": 70
        }
      ]
    },
    {
      "cell_type": "code",
      "metadata": {
        "colab": {
          "base_uri": "https://localhost:8080/"
        },
        "id": "3-agGDlya6Cw",
        "outputId": "db4e44fe-9fae-4cc3-b1ca-c0140384530f"
      },
      "source": [
        "a[[0,1]]"
      ],
      "execution_count": 63,
      "outputs": [
        {
          "output_type": "execute_result",
          "data": {
            "text/plain": [
              "array([[1., 2., 3., 4.],\n",
              "       [5., 6., 7., 8.]])"
            ]
          },
          "metadata": {
            "tags": []
          },
          "execution_count": 63
        }
      ]
    },
    {
      "cell_type": "code",
      "metadata": {
        "colab": {
          "base_uri": "https://localhost:8080/"
        },
        "id": "XHzy5aIna6FW",
        "outputId": "5860a825-40c7-43db-8537-bff9af0302e4"
      },
      "source": [
        "a.max()"
      ],
      "execution_count": 64,
      "outputs": [
        {
          "output_type": "execute_result",
          "data": {
            "text/plain": [
              "12.0"
            ]
          },
          "metadata": {
            "tags": []
          },
          "execution_count": 64
        }
      ]
    },
    {
      "cell_type": "code",
      "metadata": {
        "colab": {
          "base_uri": "https://localhost:8080/"
        },
        "id": "tqRS9h_Ea6Ja",
        "outputId": "e8cf658d-48bc-480a-bf78-d0f311117fbd"
      },
      "source": [
        "a.min()"
      ],
      "execution_count": 66,
      "outputs": [
        {
          "output_type": "execute_result",
          "data": {
            "text/plain": [
              "1.0"
            ]
          },
          "metadata": {
            "tags": []
          },
          "execution_count": 66
        }
      ]
    },
    {
      "cell_type": "markdown",
      "metadata": {
        "id": "35FajU3f9e3v"
      },
      "source": [
        "**BASIC NUMPY OPERATIONS**"
      ]
    },
    {
      "cell_type": "code",
      "metadata": {
        "colab": {
          "base_uri": "https://localhost:8080/"
        },
        "id": "Qi4y6g3BqtAO",
        "outputId": "3caa3d3b-b5a3-4d63-83c7-3bb95ee7a9c3"
      },
      "source": [
        "np.ones((22,1,2,3), dtype=np.int_)"
      ],
      "execution_count": 78,
      "outputs": [
        {
          "output_type": "execute_result",
          "data": {
            "text/plain": [
              "array([[[[1, 1, 1],\n",
              "         [1, 1, 1]]],\n",
              "\n",
              "\n",
              "       [[[1, 1, 1],\n",
              "         [1, 1, 1]]],\n",
              "\n",
              "\n",
              "       [[[1, 1, 1],\n",
              "         [1, 1, 1]]],\n",
              "\n",
              "\n",
              "       [[[1, 1, 1],\n",
              "         [1, 1, 1]]],\n",
              "\n",
              "\n",
              "       [[[1, 1, 1],\n",
              "         [1, 1, 1]]],\n",
              "\n",
              "\n",
              "       [[[1, 1, 1],\n",
              "         [1, 1, 1]]],\n",
              "\n",
              "\n",
              "       [[[1, 1, 1],\n",
              "         [1, 1, 1]]],\n",
              "\n",
              "\n",
              "       [[[1, 1, 1],\n",
              "         [1, 1, 1]]],\n",
              "\n",
              "\n",
              "       [[[1, 1, 1],\n",
              "         [1, 1, 1]]],\n",
              "\n",
              "\n",
              "       [[[1, 1, 1],\n",
              "         [1, 1, 1]]],\n",
              "\n",
              "\n",
              "       [[[1, 1, 1],\n",
              "         [1, 1, 1]]],\n",
              "\n",
              "\n",
              "       [[[1, 1, 1],\n",
              "         [1, 1, 1]]],\n",
              "\n",
              "\n",
              "       [[[1, 1, 1],\n",
              "         [1, 1, 1]]],\n",
              "\n",
              "\n",
              "       [[[1, 1, 1],\n",
              "         [1, 1, 1]]],\n",
              "\n",
              "\n",
              "       [[[1, 1, 1],\n",
              "         [1, 1, 1]]],\n",
              "\n",
              "\n",
              "       [[[1, 1, 1],\n",
              "         [1, 1, 1]]],\n",
              "\n",
              "\n",
              "       [[[1, 1, 1],\n",
              "         [1, 1, 1]]],\n",
              "\n",
              "\n",
              "       [[[1, 1, 1],\n",
              "         [1, 1, 1]]],\n",
              "\n",
              "\n",
              "       [[[1, 1, 1],\n",
              "         [1, 1, 1]]],\n",
              "\n",
              "\n",
              "       [[[1, 1, 1],\n",
              "         [1, 1, 1]]],\n",
              "\n",
              "\n",
              "       [[[1, 1, 1],\n",
              "         [1, 1, 1]]],\n",
              "\n",
              "\n",
              "       [[[1, 1, 1],\n",
              "         [1, 1, 1]]]])"
            ]
          },
          "metadata": {
            "tags": []
          },
          "execution_count": 78
        }
      ]
    },
    {
      "cell_type": "code",
      "metadata": {
        "colab": {
          "base_uri": "https://localhost:8080/"
        },
        "id": "BeoMTGt29oha",
        "outputId": "ce27ba98-209a-4bd7-fca3-df564676fc8c"
      },
      "source": [
        "len(arr3)"
      ],
      "execution_count": 79,
      "outputs": [
        {
          "output_type": "execute_result",
          "data": {
            "text/plain": [
              "2"
            ]
          },
          "metadata": {
            "tags": []
          },
          "execution_count": 79
        }
      ]
    },
    {
      "cell_type": "code",
      "metadata": {
        "id": "rbu9yjqi_CAX"
      },
      "source": [
        ""
      ],
      "execution_count": null,
      "outputs": []
    }
  ]
}