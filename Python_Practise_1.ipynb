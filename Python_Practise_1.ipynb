{
  "nbformat": 4,
  "nbformat_minor": 0,
  "metadata": {
    "colab": {
      "name": "Python Practise-1.ipynb",
      "provenance": [],
      "authorship_tag": "ABX9TyNeO+CRIxd82hEDik6JrioF",
      "include_colab_link": true
    },
    "kernelspec": {
      "name": "python3",
      "display_name": "Python 3"
    },
    "language_info": {
      "name": "python"
    }
  },
  "cells": [
    {
      "cell_type": "markdown",
      "metadata": {
        "id": "view-in-github",
        "colab_type": "text"
      },
      "source": [
        "<a href=\"https://colab.research.google.com/github/Sumant25/My_repository/blob/main/Python_Practise_1.ipynb\" target=\"_parent\"><img src=\"https://colab.research.google.com/assets/colab-badge.svg\" alt=\"Open In Colab\"/></a>"
      ]
    },
    {
      "cell_type": "code",
      "metadata": {
        "id": "zNNiHXSrumK1"
      },
      "source": [
        "import numpy as np\n",
        "import pandas as pd\n",
        "import matplotlib.pyplot as plt\n",
        "import seaborn as sns"
      ],
      "execution_count": 2,
      "outputs": []
    },
    {
      "cell_type": "markdown",
      "metadata": {
        "id": "Lxln_onEvD5o"
      },
      "source": [
        "**Why we should use Numpy array when we have Python list??**"
      ]
    },
    {
      "cell_type": "markdown",
      "metadata": {
        "id": "HvUqkPDrvZy8"
      },
      "source": [
        "Numpy array are:\n",
        "\n",
        "1.   FAST\n",
        "2.   CONVENIENCE\n",
        "3.   USES LESS MEMEORY\n",
        "4.   FUNCTIONALITY\n",
        "\n"
      ]
    },
    {
      "cell_type": "markdown",
      "metadata": {
        "id": "9-h-zrs1S1xe"
      },
      "source": [
        "***Memory Consumption Test of Numpy Array vs Python List***"
      ]
    },
    {
      "cell_type": "code",
      "metadata": {
        "id": "O3ngSaV9u4LG"
      },
      "source": [
        "import time\n",
        "import sys"
      ],
      "execution_count": 3,
      "outputs": []
    },
    {
      "cell_type": "code",
      "metadata": {
        "colab": {
          "base_uri": "https://localhost:8080/"
        },
        "id": "DAhP7as7u4ZC",
        "outputId": "18b4dca3-21bc-4812-8ec7-0abad7766055"
      },
      "source": [
        "b= range(1000) # creating a list of 1000 numbers from 0 to 999.\n",
        "print('total memory occupied by 1000 elements in Python list:')\n",
        "print(sys.getsizeof(5)*len(b), \"bytes\")"
      ],
      "execution_count": 9,
      "outputs": [
        {
          "output_type": "stream",
          "text": [
            "total memory occupied by 1000 elements in Python :\n",
            "28000 bytes\n"
          ],
          "name": "stdout"
        }
      ]
    },
    {
      "cell_type": "code",
      "metadata": {
        "colab": {
          "base_uri": "https://localhost:8080/"
        },
        "id": "0tabuQD4u4bT",
        "outputId": "bf8ab72e-5fb5-41cc-d391-6cd10c303a1f"
      },
      "source": [
        "c = np.arange(1000) # creating an array of 1000 nos.\n",
        "print('total memory occupied by 1000 elements in Numpy array:')\n",
        "print((c.itemsize * c.size),'bytes')"
      ],
      "execution_count": 11,
      "outputs": [
        {
          "output_type": "stream",
          "text": [
            "total memory occupied by 1000 elements in Numpy array:\n",
            "8000 bytes\n"
          ],
          "name": "stdout"
        }
      ]
    },
    {
      "cell_type": "markdown",
      "metadata": {
        "id": "rGgF99jlUqk0"
      },
      "source": [
        "***Comparing the Speed of Numpy array vs Python List***"
      ]
    },
    {
      "cell_type": "code",
      "metadata": {
        "colab": {
          "base_uri": "https://localhost:8080/"
        },
        "id": "Z35iIbF8u4jJ",
        "outputId": "050ef3f3-988b-4395-ba83-0298659906fd"
      },
      "source": [
        "# How much it takes to add 1 million elements in LIST vs ARRAY\n",
        "\n",
        "size = 1000000\n",
        "\n",
        "A1 = range(size)\n",
        "A2 = range(size)\n",
        "\n",
        "start = time.time() # capture start-time before processing\n",
        "result = [x+y for x,y in zip(A1,A2)]\n",
        "stop = time.time() # capture stop-time after processing\n",
        "# (stop-start)*1000 # to convert the time-diff into milliseconds\n",
        "print('time taken by python list addition -> ', (stop-start)*1000, ' ms') \n",
        "\n",
        "L1 = np.arange(size)\n",
        "L2 = np.arange(size)\n",
        "\n",
        "start = time.time()\n",
        "result = L1 + L2\n",
        "stop = time.time()\n",
        "print('time taken by numpy array addition -> ', (stop-start)*1000, ' ms')"
      ],
      "execution_count": 14,
      "outputs": [
        {
          "output_type": "stream",
          "text": [
            "time taken by python list addition ->  131.78277015686035  ms\n",
            "time taken by numpy array addition ->  18.596649169921875  ms\n"
          ],
          "name": "stdout"
        }
      ]
    },
    {
      "cell_type": "code",
      "metadata": {
        "colab": {
          "base_uri": "https://localhost:8080/"
        },
        "id": "_PY8PdVEu4lV",
        "outputId": "cde6a2ab-b086-48bb-c399-b5afd296184c"
      },
      "source": [
        "# 1-D array\n",
        "arr1 = np.array([10,20,30,40,50])\n",
        "arr1"
      ],
      "execution_count": 40,
      "outputs": [
        {
          "output_type": "execute_result",
          "data": {
            "text/plain": [
              "array([10, 20, 30, 40, 50])"
            ]
          },
          "metadata": {
            "tags": []
          },
          "execution_count": 40
        }
      ]
    },
    {
      "cell_type": "code",
      "metadata": {
        "colab": {
          "base_uri": "https://localhost:8080/"
        },
        "id": "a8RDa5L6u4o8",
        "outputId": "aefe6ca7-85d7-4e5c-de0a-d72792377523"
      },
      "source": [
        "arr1.tolist()"
      ],
      "execution_count": 41,
      "outputs": [
        {
          "output_type": "execute_result",
          "data": {
            "text/plain": [
              "[10, 20, 30, 40, 50]"
            ]
          },
          "metadata": {
            "tags": []
          },
          "execution_count": 41
        }
      ]
    },
    {
      "cell_type": "code",
      "metadata": {
        "colab": {
          "base_uri": "https://localhost:8080/"
        },
        "id": "W6rcFeBnYYVA",
        "outputId": "462cb2d5-265c-43c9-dfde-79aae5844aa8"
      },
      "source": [
        "# 2-D array\n",
        "arr2 = np.array([[1,2,3],[4,5,6]])\n",
        "arr2"
      ],
      "execution_count": 26,
      "outputs": [
        {
          "output_type": "execute_result",
          "data": {
            "text/plain": [
              "array([[1, 2, 3],\n",
              "       [4, 5, 6]])"
            ]
          },
          "metadata": {
            "tags": []
          },
          "execution_count": 26
        }
      ]
    },
    {
      "cell_type": "code",
      "metadata": {
        "colab": {
          "base_uri": "https://localhost:8080/"
        },
        "id": "K9zTKHVfYYXn",
        "outputId": "8cfcbe27-c4c1-48a9-de1a-0b9068685655"
      },
      "source": [
        "# alternatively using 2-D list\n",
        "mylist = [[1,2,3],[4,5,6]]\n",
        "b = np.array(mylist)\n",
        "print(b)"
      ],
      "execution_count": 28,
      "outputs": [
        {
          "output_type": "stream",
          "text": [
            "[[1 2 3]\n",
            " [4 5 6]]\n"
          ],
          "name": "stdout"
        }
      ]
    },
    {
      "cell_type": "code",
      "metadata": {
        "colab": {
          "base_uri": "https://localhost:8080/"
        },
        "id": "z4fTeLd-bJ3V",
        "outputId": "ef7597a5-e1d5-403c-a2b7-ff203e770a17"
      },
      "source": [
        "# 3-D array\n",
        "arr3 = np.array([[[1,2,3],[4,5,6]],[[7,8,9],[10,11,12]]])\n",
        "arr3"
      ],
      "execution_count": 31,
      "outputs": [
        {
          "output_type": "execute_result",
          "data": {
            "text/plain": [
              "array([[[ 1,  2,  3],\n",
              "        [ 4,  5,  6]],\n",
              "\n",
              "       [[ 7,  8,  9],\n",
              "        [10, 11, 12]]])"
            ]
          },
          "metadata": {
            "tags": []
          },
          "execution_count": 31
        }
      ]
    },
    {
      "cell_type": "markdown",
      "metadata": {
        "id": "Ys2Ad2HtcVF2"
      },
      "source": [
        "**Checking dimensions & Shape of an Array**"
      ]
    },
    {
      "cell_type": "code",
      "metadata": {
        "colab": {
          "base_uri": "https://localhost:8080/"
        },
        "id": "lW2cw1M_bKGV",
        "outputId": "adc9e959-94da-4e1f-b87d-3cdee8473823"
      },
      "source": [
        "arr3.ndim"
      ],
      "execution_count": 32,
      "outputs": [
        {
          "output_type": "execute_result",
          "data": {
            "text/plain": [
              "3"
            ]
          },
          "metadata": {
            "tags": []
          },
          "execution_count": 32
        }
      ]
    },
    {
      "cell_type": "code",
      "metadata": {
        "colab": {
          "base_uri": "https://localhost:8080/"
        },
        "id": "4HuO_7IJbKJn",
        "outputId": "b33ad7b3-9f99-4352-cadd-d00849a8f09c"
      },
      "source": [
        "arr3.shape"
      ],
      "execution_count": 33,
      "outputs": [
        {
          "output_type": "execute_result",
          "data": {
            "text/plain": [
              "(2, 2, 3)"
            ]
          },
          "metadata": {
            "tags": []
          },
          "execution_count": 33
        }
      ]
    },
    {
      "cell_type": "code",
      "metadata": {
        "colab": {
          "base_uri": "https://localhost:8080/"
        },
        "id": "tfYv9sX3YYaJ",
        "outputId": "f5beb7bb-1b1a-49f5-915f-1e885bc4558e"
      },
      "source": [
        "b.ndim  # To check no of dimensions"
      ],
      "execution_count": 29,
      "outputs": [
        {
          "output_type": "execute_result",
          "data": {
            "text/plain": [
              "2"
            ]
          },
          "metadata": {
            "tags": []
          },
          "execution_count": 29
        }
      ]
    },
    {
      "cell_type": "code",
      "metadata": {
        "colab": {
          "base_uri": "https://localhost:8080/"
        },
        "id": "Fx0pfpmXYYca",
        "outputId": "6228c5d2-2c92-4c8c-aa66-d34ae294544b"
      },
      "source": [
        "b.shape # it gives no of Rows X no. of Columns"
      ],
      "execution_count": 30,
      "outputs": [
        {
          "output_type": "execute_result",
          "data": {
            "text/plain": [
              "(2, 3)"
            ]
          },
          "metadata": {
            "tags": []
          },
          "execution_count": 30
        }
      ]
    },
    {
      "cell_type": "markdown",
      "metadata": {
        "id": "RLuNfPqOaAnW"
      },
      "source": [
        "**Indexing in Numpy Array**"
      ]
    },
    {
      "cell_type": "code",
      "metadata": {
        "colab": {
          "base_uri": "https://localhost:8080/"
        },
        "id": "MpIiAUcLYYfT",
        "outputId": "16058483-8bd7-4a76-df80-89b6a5cb3813"
      },
      "source": [
        "arr3 = np.array([[[1,2,3],[4,5,6]],[[7,8,9],[10,11,12]]])\n",
        "arr3"
      ],
      "execution_count": 34,
      "outputs": [
        {
          "output_type": "execute_result",
          "data": {
            "text/plain": [
              "array([[[ 1,  2,  3],\n",
              "        [ 4,  5,  6]],\n",
              "\n",
              "       [[ 7,  8,  9],\n",
              "        [10, 11, 12]]])"
            ]
          },
          "metadata": {
            "tags": []
          },
          "execution_count": 34
        }
      ]
    },
    {
      "cell_type": "code",
      "metadata": {
        "colab": {
          "base_uri": "https://localhost:8080/"
        },
        "id": "ZMDGvruYYYiO",
        "outputId": "ae0f03a3-9990-49ed-cf6d-1a9fa7ec0a86"
      },
      "source": [
        "arr3[-1][-1][-1]"
      ],
      "execution_count": 38,
      "outputs": [
        {
          "output_type": "execute_result",
          "data": {
            "text/plain": [
              "12"
            ]
          },
          "metadata": {
            "tags": []
          },
          "execution_count": 38
        }
      ]
    },
    {
      "cell_type": "code",
      "metadata": {
        "colab": {
          "base_uri": "https://localhost:8080/"
        },
        "id": "hBv7aJZCYYkG",
        "outputId": "d0a2bac2-eede-4c80-cd4a-f53d5a023e81"
      },
      "source": [
        "arr3[1][1][2]"
      ],
      "execution_count": 44,
      "outputs": [
        {
          "output_type": "execute_result",
          "data": {
            "text/plain": [
              "12"
            ]
          },
          "metadata": {
            "tags": []
          },
          "execution_count": 44
        }
      ]
    },
    {
      "cell_type": "code",
      "metadata": {
        "colab": {
          "base_uri": "https://localhost:8080/"
        },
        "id": "YsblUOLNYYmp",
        "outputId": "86538de5-bace-4e13-c437-f562e2f8beda"
      },
      "source": [
        "arr3[1,1,2]"
      ],
      "execution_count": 56,
      "outputs": [
        {
          "output_type": "execute_result",
          "data": {
            "text/plain": [
              "12"
            ]
          },
          "metadata": {
            "tags": []
          },
          "execution_count": 56
        }
      ]
    },
    {
      "cell_type": "code",
      "metadata": {
        "colab": {
          "base_uri": "https://localhost:8080/"
        },
        "id": "DKIGOAK2YYpP",
        "outputId": "70f29b38-1a01-4f15-c2fb-bd23f0d2bbea"
      },
      "source": [
        "a = np.array([[1,2,3,4],[5,6,7,8], [9,10,11,12]])\n",
        "a"
      ],
      "execution_count": 58,
      "outputs": [
        {
          "output_type": "execute_result",
          "data": {
            "text/plain": [
              "array([[ 1,  2,  3,  4],\n",
              "       [ 5,  6,  7,  8],\n",
              "       [ 9, 10, 11, 12]])"
            ]
          },
          "metadata": {
            "tags": []
          },
          "execution_count": 58
        }
      ]
    },
    {
      "cell_type": "code",
      "metadata": {
        "colab": {
          "base_uri": "https://localhost:8080/"
        },
        "id": "s8jL-W4vYYsZ",
        "outputId": "59985448-1313-4e6a-a8c5-c2b9f7cdbd1c"
      },
      "source": [
        "b = a[:2,1:3]   # :2 -> means all rows till (2-1) rows from end , 1:3 means -> covering columns from index 1 to last-1\n",
        "b"
      ],
      "execution_count": 60,
      "outputs": [
        {
          "output_type": "execute_result",
          "data": {
            "text/plain": [
              "array([[2, 3],\n",
              "       [6, 7]])"
            ]
          },
          "metadata": {
            "tags": []
          },
          "execution_count": 60
        }
      ]
    },
    {
      "cell_type": "code",
      "metadata": {
        "colab": {
          "base_uri": "https://localhost:8080/"
        },
        "id": "XibGZFsaa6AT",
        "outputId": "9ada3d0b-38fa-42e8-8110-4e65b8d9411c"
      },
      "source": [
        "a = np.array([[1,2,3,4],[5,6,7,8], [9,10,11,12]], dtype='float')\n",
        "a"
      ],
      "execution_count": 70,
      "outputs": [
        {
          "output_type": "execute_result",
          "data": {
            "text/plain": [
              "array([[ 1.,  2.,  3.,  4.],\n",
              "       [ 5.,  6.,  7.,  8.],\n",
              "       [ 9., 10., 11., 12.]])"
            ]
          },
          "metadata": {
            "tags": []
          },
          "execution_count": 70
        }
      ]
    },
    {
      "cell_type": "code",
      "metadata": {
        "colab": {
          "base_uri": "https://localhost:8080/"
        },
        "id": "3-agGDlya6Cw",
        "outputId": "db4e44fe-9fae-4cc3-b1ca-c0140384530f"
      },
      "source": [
        "a[[0,1]]"
      ],
      "execution_count": 63,
      "outputs": [
        {
          "output_type": "execute_result",
          "data": {
            "text/plain": [
              "array([[1., 2., 3., 4.],\n",
              "       [5., 6., 7., 8.]])"
            ]
          },
          "metadata": {
            "tags": []
          },
          "execution_count": 63
        }
      ]
    },
    {
      "cell_type": "code",
      "metadata": {
        "colab": {
          "base_uri": "https://localhost:8080/"
        },
        "id": "XHzy5aIna6FW",
        "outputId": "5860a825-40c7-43db-8537-bff9af0302e4"
      },
      "source": [
        "a.max()"
      ],
      "execution_count": 64,
      "outputs": [
        {
          "output_type": "execute_result",
          "data": {
            "text/plain": [
              "12.0"
            ]
          },
          "metadata": {
            "tags": []
          },
          "execution_count": 64
        }
      ]
    },
    {
      "cell_type": "code",
      "metadata": {
        "colab": {
          "base_uri": "https://localhost:8080/"
        },
        "id": "tqRS9h_Ea6Ja",
        "outputId": "e8cf658d-48bc-480a-bf78-d0f311117fbd"
      },
      "source": [
        "a.min()"
      ],
      "execution_count": 66,
      "outputs": [
        {
          "output_type": "execute_result",
          "data": {
            "text/plain": [
              "1.0"
            ]
          },
          "metadata": {
            "tags": []
          },
          "execution_count": 66
        }
      ]
    },
    {
      "cell_type": "markdown",
      "metadata": {
        "id": "35FajU3f9e3v"
      },
      "source": [
        "**BASIC NUMPY OPERATIONS**"
      ]
    },
    {
      "cell_type": "code",
      "metadata": {
        "colab": {
          "base_uri": "https://localhost:8080/"
        },
        "id": "Qi4y6g3BqtAO",
        "outputId": "898b8e53-7083-4365-bdbf-71199427af4e"
      },
      "source": [
        "a1 = np.ones((4,4), dtype=np.int_)\n",
        "a1"
      ],
      "execution_count": 103,
      "outputs": [
        {
          "output_type": "execute_result",
          "data": {
            "text/plain": [
              "array([[1, 1, 1, 1],\n",
              "       [1, 1, 1, 1],\n",
              "       [1, 1, 1, 1],\n",
              "       [1, 1, 1, 1]])"
            ]
          },
          "metadata": {
            "tags": []
          },
          "execution_count": 103
        }
      ]
    },
    {
      "cell_type": "code",
      "metadata": {
        "colab": {
          "base_uri": "https://localhost:8080/"
        },
        "id": "rmhHebmhDPfh",
        "outputId": "240ee074-72b8-4ecd-ca7e-9e85caff30f6"
      },
      "source": [
        "np.zeros((4,4),dtype=np.int_)"
      ],
      "execution_count": 90,
      "outputs": [
        {
          "output_type": "execute_result",
          "data": {
            "text/plain": [
              "array([[0, 0, 0, 0],\n",
              "       [0, 0, 0, 0],\n",
              "       [0, 0, 0, 0],\n",
              "       [0, 0, 0, 0]])"
            ]
          },
          "metadata": {
            "tags": []
          },
          "execution_count": 90
        }
      ]
    },
    {
      "cell_type": "code",
      "metadata": {
        "colab": {
          "base_uri": "https://localhost:8080/"
        },
        "id": "cct6aqhkE3Vk",
        "outputId": "e23336eb-b33a-42d9-f840-404979fcd085"
      },
      "source": [
        "np.arange(10)"
      ],
      "execution_count": 107,
      "outputs": [
        {
          "output_type": "execute_result",
          "data": {
            "text/plain": [
              "array([0, 1, 2, 3, 4, 5, 6, 7, 8, 9])"
            ]
          },
          "metadata": {
            "tags": []
          },
          "execution_count": 107
        }
      ]
    },
    {
      "cell_type": "code",
      "metadata": {
        "colab": {
          "base_uri": "https://localhost:8080/"
        },
        "id": "7SLE5xVaDaD0",
        "outputId": "c0f0571d-7e9e-4a8b-cff6-1d5235b62cc3"
      },
      "source": [
        "np.arange(1,20,2).reshape((5,2)).reshape((2,5))"
      ],
      "execution_count": 99,
      "outputs": [
        {
          "output_type": "execute_result",
          "data": {
            "text/plain": [
              "array([[ 1,  3,  5,  7,  9],\n",
              "       [11, 13, 15, 17, 19]])"
            ]
          },
          "metadata": {
            "tags": []
          },
          "execution_count": 99
        }
      ]
    },
    {
      "cell_type": "code",
      "metadata": {
        "colab": {
          "base_uri": "https://localhost:8080/"
        },
        "id": "gMt0Ort0Dq0a",
        "outputId": "1dffbeca-340d-4081-d29f-fc6098faa00a"
      },
      "source": [
        "np.arange(1,20,2).reshape((5,2)).reshape((2,5))[1][2]   # extract 15"
      ],
      "execution_count": 100,
      "outputs": [
        {
          "output_type": "execute_result",
          "data": {
            "text/plain": [
              "15"
            ]
          },
          "metadata": {
            "tags": []
          },
          "execution_count": 100
        }
      ]
    },
    {
      "cell_type": "code",
      "metadata": {
        "colab": {
          "base_uri": "https://localhost:8080/"
        },
        "id": "684NVNdkEUSA",
        "outputId": "b7b8ee6e-086c-45d5-cb1f-30544544d296"
      },
      "source": [
        "# Concatenation example:\n",
        "\n",
        "print(np.char.add([1.1, 'hi'],[2 ,'def']))"
      ],
      "execution_count": 123,
      "outputs": [
        {
          "output_type": "stream",
          "text": [
            "['1.12' 'hidef']\n"
          ],
          "name": "stdout"
        }
      ]
    },
    {
      "cell_type": "code",
      "metadata": {
        "colab": {
          "base_uri": "https://localhost:8080/"
        },
        "id": "xndxq3FKFi_g",
        "outputId": "f7bc43d6-28e1-4719-97a4-47ca068bfad5"
      },
      "source": [
        "print(np.char.add(['1',2],[3,'4']))"
      ],
      "execution_count": 124,
      "outputs": [
        {
          "output_type": "stream",
          "text": [
            "['13' '24']\n"
          ],
          "name": "stdout"
        }
      ]
    },
    {
      "cell_type": "code",
      "metadata": {
        "colab": {
          "base_uri": "https://localhost:8080/"
        },
        "id": "9cKv4KGkGT9M",
        "outputId": "1860dff3-5435-4a1e-baaf-5259ecf527e4"
      },
      "source": [
        "print(np.char.center('Aanya',100,fillchar='-'))"
      ],
      "execution_count": 137,
      "outputs": [
        {
          "output_type": "stream",
          "text": [
            "-----------------------------------------------Aanya------------------------------------------------\n"
          ],
          "name": "stdout"
        }
      ]
    },
    {
      "cell_type": "code",
      "metadata": {
        "colab": {
          "base_uri": "https://localhost:8080/"
        },
        "id": "2XRHt4suG9_n",
        "outputId": "18a32191-0f15-4b7c-b84f-bc1e1a878aef"
      },
      "source": [
        " print(np.char.capitalize(['hello', 'sumant']))"
      ],
      "execution_count": 180,
      "outputs": [
        {
          "output_type": "stream",
          "text": [
            "['Hello' 'Sumant']\n"
          ],
          "name": "stdout"
        }
      ]
    },
    {
      "cell_type": "code",
      "metadata": {
        "colab": {
          "base_uri": "https://localhost:8080/"
        },
        "id": "0C8ogzhII3zI",
        "outputId": "b5fd5e51-f868-4f55-e2f8-2397696ce69b"
      },
      "source": [
        " print(np.char.title('hello sumant'))"
      ],
      "execution_count": 140,
      "outputs": [
        {
          "output_type": "stream",
          "text": [
            "Hello Sumant\n"
          ],
          "name": "stdout"
        }
      ]
    },
    {
      "cell_type": "code",
      "metadata": {
        "colab": {
          "base_uri": "https://localhost:8080/"
        },
        "id": "-wKpFiwMI_2W",
        "outputId": "f4624d00-34c1-40d0-e9eb-48b4b2d100d8"
      },
      "source": [
        " print(np.char.upper('hello sumant'))"
      ],
      "execution_count": 142,
      "outputs": [
        {
          "output_type": "stream",
          "text": [
            "HELLO SUMANT\n"
          ],
          "name": "stdout"
        }
      ]
    },
    {
      "cell_type": "code",
      "metadata": {
        "colab": {
          "base_uri": "https://localhost:8080/"
        },
        "id": "2H7BXTKTJCSf",
        "outputId": "eb1c2d58-ffe0-474b-a3ac-d8464c1cea05"
      },
      "source": [
        "print(np.char.lower(('SUMANT' , 'GIRI')))"
      ],
      "execution_count": 147,
      "outputs": [
        {
          "output_type": "stream",
          "text": [
            "['sumant' 'giri']\n"
          ],
          "name": "stdout"
        }
      ]
    },
    {
      "cell_type": "code",
      "metadata": {
        "colab": {
          "base_uri": "https://localhost:8080/"
        },
        "id": "ORGbHY5HJNg3",
        "outputId": "e8c53d23-dbe9-4848-b0d4-bf24d42e1c2d"
      },
      "source": [
        "print(np.char.split('hi all , i am new to python programming'))"
      ],
      "execution_count": 149,
      "outputs": [
        {
          "output_type": "stream",
          "text": [
            "['hi', 'all', ',', 'i', 'am', 'new', 'to', 'python', 'programming']\n"
          ],
          "name": "stdout"
        }
      ]
    },
    {
      "cell_type": "code",
      "metadata": {
        "colab": {
          "base_uri": "https://localhost:8080/"
        },
        "id": "1kVFoqJgKKe_",
        "outputId": "44180990-ce16-47e4-9e1c-2a6dcaddceda"
      },
      "source": [
        "print(np.char.splitlines('hi all\\ni am new to\\n python programming'))"
      ],
      "execution_count": 154,
      "outputs": [
        {
          "output_type": "stream",
          "text": [
            "['hi all', 'i am new to', ' python programming']\n"
          ],
          "name": "stdout"
        }
      ]
    },
    {
      "cell_type": "code",
      "metadata": {
        "colab": {
          "base_uri": "https://localhost:8080/"
        },
        "id": "WE0qGZkgKWYL",
        "outputId": "6ca14cbd-dac2-408d-cb17-6deacd09ec56"
      },
      "source": [
        "print(np.char.strip('hi all,\\ni am\\t new\\n to\\n python programming'))"
      ],
      "execution_count": 165,
      "outputs": [
        {
          "output_type": "stream",
          "text": [
            "hi all,\n",
            "i am\t new\n",
            " to\n",
            " python programming\n"
          ],
          "name": "stdout"
        }
      ]
    },
    {
      "cell_type": "code",
      "metadata": {
        "colab": {
          "base_uri": "https://localhost:8080/"
        },
        "id": "BNF0wCiZKz8M",
        "outputId": "8ecce347-16a9-418a-906e-6e4e3cee067b"
      },
      "source": [
        "print(np.char.strip(['apple','pear','orange','banana','grapes','mango'],'e'))"
      ],
      "execution_count": 173,
      "outputs": [
        {
          "output_type": "stream",
          "text": [
            "['appl' 'pear' 'orang' 'banana' 'grapes' 'mango']\n"
          ],
          "name": "stdout"
        }
      ]
    },
    {
      "cell_type": "code",
      "metadata": {
        "colab": {
          "base_uri": "https://localhost:8080/"
        },
        "id": "Tn9WHViPMDne",
        "outputId": "2a92cfdb-91f1-4448-c081-8bf520c743c5"
      },
      "source": [
        "print(np.char.join([':','-'],['dmy','ymd']))"
      ],
      "execution_count": 172,
      "outputs": [
        {
          "output_type": "stream",
          "text": [
            "['d:m:y' 'y-m-d']\n"
          ],
          "name": "stdout"
        }
      ]
    },
    {
      "cell_type": "code",
      "metadata": {
        "colab": {
          "base_uri": "https://localhost:8080/"
        },
        "id": "yU85pybXNJMr",
        "outputId": "51887599-cf28-41f4-ad1b-2c6f3c85d0f8"
      },
      "source": [
        "print(np.char.join(['@'],['sumant']))"
      ],
      "execution_count": 177,
      "outputs": [
        {
          "output_type": "stream",
          "text": [
            "['s@u@m@a@n@t']\n"
          ],
          "name": "stdout"
        }
      ]
    },
    {
      "cell_type": "code",
      "metadata": {
        "colab": {
          "base_uri": "https://localhost:8080/"
        },
        "id": "TKjz-34sNiQ6",
        "outputId": "6d7fa284-baec-4c73-ae6e-b291f8b3785c"
      },
      "source": [
        "print(np.char.replace('I am not having fun with Python', 'not', 'really'))"
      ],
      "execution_count": 178,
      "outputs": [
        {
          "output_type": "stream",
          "text": [
            "I am really having fun with Python\n"
          ],
          "name": "stdout"
        }
      ]
    },
    {
      "cell_type": "markdown",
      "metadata": {
        "id": "BcDg7dXkPXRj"
      },
      "source": [
        "### **Array Manipulation**"
      ]
    },
    {
      "cell_type": "markdown",
      "metadata": {
        "id": "EgGbT-GkSVRI"
      },
      "source": [
        "***Reshaping an Array***"
      ]
    },
    {
      "cell_type": "code",
      "metadata": {
        "colab": {
          "base_uri": "https://localhost:8080/"
        },
        "id": "qK62vHVkPdLY",
        "outputId": "9edbbc96-4947-4518-c581-bbcae19ea10b"
      },
      "source": [
        "a = np.arange(1,10)\n",
        "print(\"The original array is:\\n\", a)\n",
        "print(\"The original array is: \",a.ndim,'dimensional with shape', a.shape)\n",
        "print()\n",
        "\n",
        "b = a.reshape(1,9)\n",
        "print(\"The modified array is:\\n\", b)\n",
        "print(\"The modified array is: \",b.ndim,'dimensional with shape', b.shape)\n",
        "print()\n",
        "\n",
        "c = a.reshape(9,1)\n",
        "print(\"The modified array is:\\n\", c)\n",
        "print(\"The modified array is: \",c.ndim,'dimensional with shape', c.shape)\n",
        "print()\n",
        "\n",
        "d = a.reshape(3,3)\n",
        "print(\"The modified array is:\\n\", d)\n",
        "print(\"The modified array is: \",d.ndim,'dimensional with shape', d.shape)"
      ],
      "execution_count": 197,
      "outputs": [
        {
          "output_type": "stream",
          "text": [
            "The original array is:\n",
            " [1 2 3 4 5 6 7 8 9]\n",
            "The original array is:  1 dimensional with shape (9,)\n",
            "\n",
            "The modified array is:\n",
            " [[1 2 3 4 5 6 7 8 9]]\n",
            "The modified array is:  2 dimensional with shape (1, 9)\n",
            "\n",
            "The modified array is:\n",
            " [[1]\n",
            " [2]\n",
            " [3]\n",
            " [4]\n",
            " [5]\n",
            " [6]\n",
            " [7]\n",
            " [8]\n",
            " [9]]\n",
            "The modified array is:  2 dimensional with shape (9, 1)\n",
            "\n",
            "The modified array is:\n",
            " [[1 2 3]\n",
            " [4 5 6]\n",
            " [7 8 9]]\n",
            "The modified array is:  2 dimensional with shape (3, 3)\n"
          ],
          "name": "stdout"
        }
      ]
    },
    {
      "cell_type": "markdown",
      "metadata": {
        "id": "oeIuLqlMSbLX"
      },
      "source": [
        "***Flattening an N-d array***\n",
        "\n",
        "* returns a copy of the input array collapsed into one dimension"
      ]
    },
    {
      "cell_type": "code",
      "metadata": {
        "colab": {
          "base_uri": "https://localhost:8080/"
        },
        "id": "qIstZuqmPdRV",
        "outputId": "43663850-04e8-405a-c304-f267e53a02ac"
      },
      "source": [
        "print(d)"
      ],
      "execution_count": 203,
      "outputs": [
        {
          "output_type": "stream",
          "text": [
            "[[1 2 3]\n",
            " [4 5 6]\n",
            " [7 8 9]]\n"
          ],
          "name": "stdout"
        }
      ]
    },
    {
      "cell_type": "code",
      "metadata": {
        "colab": {
          "base_uri": "https://localhost:8080/"
        },
        "id": "tT7sFWgyPdOP",
        "outputId": "18fc3104-f8b5-4aa4-a4e2-8c8f65aa59fb"
      },
      "source": [
        "print(d.flatten(order='C'))   # order in which we can flatten -> C-Rowwise , F - Column wise by default it is C"
      ],
      "execution_count": 207,
      "outputs": [
        {
          "output_type": "stream",
          "text": [
            "[1 2 3 4 5 6 7 8 9]\n"
          ],
          "name": "stdout"
        }
      ]
    },
    {
      "cell_type": "code",
      "metadata": {
        "colab": {
          "base_uri": "https://localhost:8080/"
        },
        "id": "52R5xgM5PdUn",
        "outputId": "66a46232-aa84-4245-9afb-469c6cccc470"
      },
      "source": [
        "print(d.flatten(order='F'))"
      ],
      "execution_count": 206,
      "outputs": [
        {
          "output_type": "stream",
          "text": [
            "[1 4 7 2 5 8 3 6 9]\n"
          ],
          "name": "stdout"
        }
      ]
    },
    {
      "cell_type": "markdown",
      "metadata": {
        "id": "IfvA7HGlVLj1"
      },
      "source": [
        "***Transpose an n-d array***"
      ]
    },
    {
      "cell_type": "code",
      "metadata": {
        "colab": {
          "base_uri": "https://localhost:8080/"
        },
        "id": "A9nfAW8hVOKJ",
        "outputId": "a2512e82-d20c-448f-8ea2-49ddbfcfaf23"
      },
      "source": [
        "a = np.arange(12).reshape(4,3)\n",
        "print(a)"
      ],
      "execution_count": 209,
      "outputs": [
        {
          "output_type": "stream",
          "text": [
            "[[ 0  1  2]\n",
            " [ 3  4  5]\n",
            " [ 6  7  8]\n",
            " [ 9 10 11]]\n"
          ],
          "name": "stdout"
        }
      ]
    },
    {
      "cell_type": "code",
      "metadata": {
        "colab": {
          "base_uri": "https://localhost:8080/"
        },
        "id": "aFIcIw-rPdjb",
        "outputId": "c63a2450-b2f0-42d0-f5ab-c88ecddec89a"
      },
      "source": [
        "print(np.transpose(a))"
      ],
      "execution_count": 211,
      "outputs": [
        {
          "output_type": "stream",
          "text": [
            "[[ 0  3  6  9]\n",
            " [ 1  4  7 10]\n",
            " [ 2  5  8 11]]\n"
          ],
          "name": "stdout"
        }
      ]
    },
    {
      "cell_type": "code",
      "metadata": {
        "colab": {
          "base_uri": "https://localhost:8080/"
        },
        "id": "u3sbP3zwPdmf",
        "outputId": "cd9c37f4-ef25-4e49-8d12-a163ed1f44a0"
      },
      "source": [
        "b = np.arange(8).reshape(2,4)\n",
        "b"
      ],
      "execution_count": 213,
      "outputs": [
        {
          "output_type": "execute_result",
          "data": {
            "text/plain": [
              "array([[0, 1, 2, 3],\n",
              "       [4, 5, 6, 7]])"
            ]
          },
          "metadata": {
            "tags": []
          },
          "execution_count": 213
        }
      ]
    },
    {
      "cell_type": "code",
      "metadata": {
        "colab": {
          "base_uri": "https://localhost:8080/"
        },
        "id": "_LUPy8NXPdo5",
        "outputId": "e1162f0d-532d-49a5-ee68-a27dae3e4655"
      },
      "source": [
        "b.transpose()"
      ],
      "execution_count": 214,
      "outputs": [
        {
          "output_type": "execute_result",
          "data": {
            "text/plain": [
              "array([[0, 4],\n",
              "       [1, 5],\n",
              "       [2, 6],\n",
              "       [3, 7]])"
            ]
          },
          "metadata": {
            "tags": []
          },
          "execution_count": 214
        }
      ]
    },
    {
      "cell_type": "code",
      "metadata": {
        "colab": {
          "base_uri": "https://localhost:8080/"
        },
        "id": "qgjJK8ojWKbx",
        "outputId": "7be90d1e-6e9a-4ce1-d8a7-1a09df58242b"
      },
      "source": [
        "c = b.reshape(2,2,2) # 2 different groups, 2 different variables, 2 different dimensions\n",
        "c"
      ],
      "execution_count": 218,
      "outputs": [
        {
          "output_type": "execute_result",
          "data": {
            "text/plain": [
              "array([[[0, 1],\n",
              "        [2, 3]],\n",
              "\n",
              "       [[4, 5],\n",
              "        [6, 7]]])"
            ]
          },
          "metadata": {
            "tags": []
          },
          "execution_count": 218
        }
      ]
    },
    {
      "cell_type": "code",
      "metadata": {
        "colab": {
          "base_uri": "https://localhost:8080/"
        },
        "id": "c7ELPokNWKeJ",
        "outputId": "9a84f323-4b93-4505-c6c8-2d6581405002"
      },
      "source": [
        "np.rollaxis(c,1)"
      ],
      "execution_count": 224,
      "outputs": [
        {
          "output_type": "execute_result",
          "data": {
            "text/plain": [
              "array([[[0, 1],\n",
              "        [4, 5]],\n",
              "\n",
              "       [[2, 3],\n",
              "        [6, 7]]])"
            ]
          },
          "metadata": {
            "tags": []
          },
          "execution_count": 224
        }
      ]
    },
    {
      "cell_type": "code",
      "metadata": {
        "id": "6Vyu0ZHAWKgu"
      },
      "source": [
        ""
      ],
      "execution_count": null,
      "outputs": []
    },
    {
      "cell_type": "code",
      "metadata": {
        "id": "JMwU3u0SWKip"
      },
      "source": [
        ""
      ],
      "execution_count": null,
      "outputs": []
    },
    {
      "cell_type": "code",
      "metadata": {
        "id": "RhRXjVbFWKku"
      },
      "source": [
        ""
      ],
      "execution_count": null,
      "outputs": []
    }
  ]
}